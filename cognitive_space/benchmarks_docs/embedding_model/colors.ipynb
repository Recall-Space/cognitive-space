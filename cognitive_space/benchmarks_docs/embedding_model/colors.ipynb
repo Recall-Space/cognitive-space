{
 "cells": [
  {
   "cell_type": "markdown",
   "metadata": {},
   "source": [
    "# 💫Benchmark\n",
    "+ *Test:* Colors\n",
    "+ *Brain:* `cognitive_space.algorithms.embedding_model`, `cognitive_space.algorithms.embedding_model`\n",
    "+ *Current Score:* 4/4 (Needs more stats)"
   ]
  },
  {
   "cell_type": "markdown",
   "metadata": {},
   "source": [
    "## 🧠Brain Usage as Tool"
   ]
  },
  {
   "cell_type": "code",
   "execution_count": 7,
   "metadata": {},
   "outputs": [
    {
     "name": "stdout",
     "output_type": "stream",
     "text": [
      "\n",
      "\n"
     ]
    }
   ],
   "source": [
    "import os\n",
    "from cognitive_space.brain import Brain\n",
    "from cognitive_space.storage import AzureAISearchStorage\n",
    "from cognitive_space.algorithms.embedding_model import EmbeddingEncode\n",
    "from cognitive_space.algorithms.embedding_model import EmbeddingRecall\n",
    "from cognitive_space.tool_builder.cognitive_encoder_tool import build_standard_encoder_tool\n",
    "from cognitive_space.tool_builder.cognitive_recall_tool import build_standard_recall_tool\n",
    "\n",
    "index_name = \"benchmarks\"\n",
    "azure_ai_search_storage = AzureAISearchStorage(\n",
    "    endpoint=os.getenv(\"AZURE_AI_SEARCH_BASE_URL\"),\n",
    "    api_key=os.getenv(\"AZURE_AI_SEARCH_API_KEY\"),\n",
    "    index_name=index_name)\n",
    "\n",
    "azure_ai_search_storage.delete_index()\n",
    "azure_ai_search_storage.create_or_update_index()\n",
    "\n",
    "embedding_encode = EmbeddingEncode(\n",
    "    storage_layer= azure_ai_search_storage,\n",
    "    base_url=os.getenv(\"EMBEDDINGS_BASE_URL\"),\n",
    "    api_key=os.getenv(\"EMBEDDINGS_KEY\")\n",
    ")\n",
    "\n",
    "embedding_recall = EmbeddingRecall(\n",
    "    storage_layer=azure_ai_search_storage,\n",
    "    base_url=os.getenv(\"EMBEDDINGS_BASE_URL\"),\n",
    "    api_key=os.getenv(\"EMBEDDINGS_KEY\"),\n",
    ")\n",
    "brain_with_embeddings = Brain(\n",
    "    cognitive_encoder=embedding_encode,\n",
    "    cognitive_recall=embedding_recall)\n",
    "\n",
    "encoder_tool = build_standard_encoder_tool(brain_with_embeddings)\n",
    "recaller_tool = build_standard_recall_tool(brain_with_embeddings)"
   ]
  },
  {
   "cell_type": "markdown",
   "metadata": {},
   "source": [
    "## 🤖Create Recall Space Agent"
   ]
  },
  {
   "cell_type": "code",
   "execution_count": 8,
   "metadata": {},
   "outputs": [
    {
     "name": "stderr",
     "output_type": "stream",
     "text": [
      "WARNING:root:\n",
      "\n",
      "Initializing StateFulAgent\n",
      "--------------------------\n",
      "name: Agent\n",
      "tools: StructuredTool, StructuredTool\n",
      "model_name: None\n",
      "provider: AzureChatOpenAI\n",
      "\n"
     ]
    }
   ],
   "source": [
    "import os\n",
    "from agent_builder.builders.agent_builder import AgentBuilder\n",
    "from textwrap import dedent\n",
    "from langchain_openai import AzureChatOpenAI\n",
    "\n",
    "\n",
    "user_name = \"Gari Ciodaro\"\n",
    "\n",
    "llm = AzureChatOpenAI(\n",
    "        base_url=os.getenv(\"AZURE_GPT4O_BASE_URL\"),\n",
    "        api_key=os.getenv(\"AZURE_GPT4O_KEY\"),\n",
    "        api_version=os.getenv(\"AZURE_GPT4O_API_VERSION\"),\n",
    "        streaming=False,\n",
    "    )\n",
    "llm_name = \"gpt-4o\"\n",
    "\n",
    "agent_builder = AgentBuilder()\n",
    "agent_builder.set_goal(\n",
    "    dedent(\n",
    "    \"\"\"\n",
    "    You are an advanced AI assistant specifically designed to excel in\n",
    "    memory and learning tasks. You can efficiently recall stored information\n",
    "    to aid in decision-making and problem-solving. Additionally, you have\n",
    "    the capability to capture and organize new information, allowing you\n",
    "    to continuously build and update your knowledge base.\n",
    "\n",
    "    Your context span is limited to a few tokens, so you will need to\n",
    "    utilize cognitive tools to be perceived as intelligent. It is essential\n",
    "    for you to always be aware of time. All timestamps presented to you will\n",
    "    be in UTC. When using tools that require time awareness, please specify\n",
    "    the time down to the second based on your UTC timestamp.\n",
    "    \"\"\"\n",
    "    )\n",
    ")\n",
    "agent_builder.set_llm(llm)\n",
    "\n",
    "agent_builder.add_tool(encoder_tool)\n",
    "agent_builder.add_tool(recaller_tool)\n",
    "\n",
    "test_agent = agent_builder.build()\n",
    "\n",
    "agent_name = \"gpt-4o-ai-brain-embeddings\""
   ]
  },
  {
   "cell_type": "markdown",
   "metadata": {},
   "source": [
    "## 📑Run Benchmark"
   ]
  },
  {
   "cell_type": "code",
   "execution_count": 9,
   "metadata": {},
   "outputs": [],
   "source": [
    "import os\n",
    "from recall_space_benchmarks.test_suite import TestSuite\n",
    "from recall_space_benchmarks.utils.mongo_connector import MongoConnector\n",
    "from recall_space_benchmarks.session.langchain_session import LangChainSession\n",
    "from recall_space_benchmarks.test_suite.tests import Colors\n",
    "\n",
    "user_name = \"Developer G\"\n",
    "\n",
    "# setup backend\n",
    "mongo_connector = MongoConnector(\n",
    "    db_name=os.getenv(\"MONGO_DB_NAME\"),\n",
    "    collection_name=os.getenv(\"MONGO_COLLECTION\"),\n",
    "    uri=os.getenv(\"MONGO_DB_CONNECTION_STRING\"))\n",
    "\n",
    "# create a session for the benchmark\n",
    "session = LangChainSession(\n",
    "    user_name=user_name, \n",
    "    agent_name=agent_name,\n",
    "    agent=test_agent,\n",
    "    #db_handler=mongo_connector,\n",
    "    session_name=f\"Assesment Colors\")\n",
    "\n",
    "# Configure the benchmark\n",
    "colors = Colors(total_questions=6,total_assessments=4)\n",
    "\n",
    "llm_judge = llm = AzureChatOpenAI(\n",
    "        base_url=os.getenv(\"AZURE_GPT4O_MINI_BASE_URL\"),\n",
    "        api_key=os.getenv(\"AZURE_GPT4O_MINI_KEY\"),\n",
    "        api_version=os.getenv(\"AZURE_GPT4O_MINI_API_VERSION\"),\n",
    "        streaming=False,\n",
    "    )\n",
    "llm_name = \"gpt-4o\"\n",
    "\n",
    "test_suite = TestSuite(\n",
    "    session=session, \n",
    "    tests=[colors],\n",
    "    include_chat_history=False,\n",
    "    llm_judge=llm_judge)\n",
    "\n"
   ]
  },
  {
   "cell_type": "code",
   "execution_count": null,
   "metadata": {},
   "outputs": [],
   "source": [
    "test_suite.run_test(\"Colors\")"
   ]
  }
 ],
 "metadata": {
  "kernelspec": {
   "display_name": "cognitive_space",
   "language": "python",
   "name": "python3"
  },
  "language_info": {
   "codemirror_mode": {
    "name": "ipython",
    "version": 3
   },
   "file_extension": ".py",
   "mimetype": "text/x-python",
   "name": "python",
   "nbconvert_exporter": "python",
   "pygments_lexer": "ipython3",
   "version": "3.10.15"
  }
 },
 "nbformat": 4,
 "nbformat_minor": 2
}
